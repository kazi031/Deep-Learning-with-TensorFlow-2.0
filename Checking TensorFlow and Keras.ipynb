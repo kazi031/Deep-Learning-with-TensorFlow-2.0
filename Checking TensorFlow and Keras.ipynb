{
 "cells": [
  {
   "cell_type": "code",
   "execution_count": 1,
   "id": "180f1957",
   "metadata": {},
   "outputs": [],
   "source": [
    "import tensorflow as tf\n",
    "import matplotlib.pyplot as plt"
   ]
  },
  {
   "cell_type": "code",
   "execution_count": 3,
   "id": "d6151fd2",
   "metadata": {},
   "outputs": [
    {
     "name": "stdout",
     "output_type": "stream",
     "text": [
      "Collecting matplotlib\n",
      "  Downloading matplotlib-3.7.1-cp310-cp310-win_amd64.whl (7.6 MB)\n",
      "     ---------------------------------------- 0.0/7.6 MB ? eta -:--:--\n",
      "     ---------------------------------------- 0.0/7.6 MB ? eta -:--:--\n",
      "     ---------------------------------------- 0.1/7.6 MB 1.2 MB/s eta 0:00:07\n",
      "      --------------------------------------- 0.2/7.6 MB 1.4 MB/s eta 0:00:06\n",
      "     - -------------------------------------- 0.2/7.6 MB 1.7 MB/s eta 0:00:05\n",
      "     - -------------------------------------- 0.4/7.6 MB 1.9 MB/s eta 0:00:04\n",
      "     -- ------------------------------------- 0.5/7.6 MB 2.0 MB/s eta 0:00:04\n",
      "     --- ------------------------------------ 0.6/7.6 MB 2.2 MB/s eta 0:00:04\n",
      "     ---- ----------------------------------- 0.8/7.6 MB 2.5 MB/s eta 0:00:03\n",
      "     ----- ---------------------------------- 1.1/7.6 MB 2.8 MB/s eta 0:00:03\n",
      "     ------ --------------------------------- 1.3/7.6 MB 3.2 MB/s eta 0:00:02\n",
      "     -------- ------------------------------- 1.6/7.6 MB 3.5 MB/s eta 0:00:02\n",
      "     ---------- ----------------------------- 2.0/7.6 MB 4.1 MB/s eta 0:00:02\n",
      "     ------------ --------------------------- 2.4/7.6 MB 4.4 MB/s eta 0:00:02\n",
      "     -------------- ------------------------- 2.8/7.6 MB 4.9 MB/s eta 0:00:01\n",
      "     ----------------- ---------------------- 3.3/7.6 MB 5.3 MB/s eta 0:00:01\n",
      "     ------------------- -------------------- 3.7/7.6 MB 5.7 MB/s eta 0:00:01\n",
      "     --------------------- ------------------ 4.1/7.6 MB 6.0 MB/s eta 0:00:01\n",
      "     ------------------------ --------------- 4.6/7.6 MB 6.4 MB/s eta 0:00:01\n",
      "     ------------------------- -------------- 4.8/7.6 MB 6.2 MB/s eta 0:00:01\n",
      "     --------------------------- ------------ 5.2/7.6 MB 6.4 MB/s eta 0:00:01\n",
      "     ----------------------------- ---------- 5.7/7.6 MB 6.8 MB/s eta 0:00:01\n",
      "     ------------------------------- -------- 6.0/7.6 MB 6.7 MB/s eta 0:00:01\n",
      "     -------------------------------- ------- 6.3/7.6 MB 6.8 MB/s eta 0:00:01\n",
      "     ----------------------------------- ---- 6.8/7.6 MB 7.0 MB/s eta 0:00:01\n",
      "     ------------------------------------- -- 7.1/7.6 MB 7.1 MB/s eta 0:00:01\n",
      "     ---------------------------------------  7.6/7.6 MB 7.2 MB/s eta 0:00:01\n",
      "     ---------------------------------------  7.6/7.6 MB 7.2 MB/s eta 0:00:01\n",
      "     ---------------------------------------- 7.6/7.6 MB 6.7 MB/s eta 0:00:00\n",
      "Collecting kiwisolver>=1.0.1\n",
      "  Downloading kiwisolver-1.4.4-cp310-cp310-win_amd64.whl (55 kB)\n",
      "     ---------------------------------------- 0.0/55.3 kB ? eta -:--:--\n",
      "     ---------------------------------------- 55.3/55.3 kB ? eta 0:00:00\n",
      "Collecting cycler>=0.10\n",
      "  Downloading cycler-0.11.0-py3-none-any.whl (6.4 kB)\n",
      "Requirement already satisfied: packaging>=20.0 in c:\\users\\kazir\\anaconda3\\envs\\py3-tf2\\lib\\site-packages (from matplotlib) (23.0)\n",
      "Collecting pyparsing>=2.3.1\n",
      "  Downloading pyparsing-3.0.9-py3-none-any.whl (98 kB)\n",
      "     ---------------------------------------- 0.0/98.3 kB ? eta -:--:--\n",
      "     ---------------------------------------- 98.3/98.3 kB ? eta 0:00:00\n",
      "Requirement already satisfied: numpy>=1.20 in c:\\users\\kazir\\anaconda3\\envs\\py3-tf2\\lib\\site-packages (from matplotlib) (1.23.5)\n",
      "Collecting contourpy>=1.0.1\n",
      "  Downloading contourpy-1.0.7-cp310-cp310-win_amd64.whl (162 kB)\n",
      "     ---------------------------------------- 0.0/163.0 kB ? eta -:--:--\n",
      "     ------------------------------------- 163.0/163.0 kB 10.2 MB/s eta 0:00:00\n",
      "Collecting pillow>=6.2.0\n",
      "  Downloading Pillow-9.5.0-cp310-cp310-win_amd64.whl (2.5 MB)\n",
      "     ---------------------------------------- 0.0/2.5 MB ? eta -:--:--\n",
      "     -------- ------------------------------- 0.5/2.5 MB 11.3 MB/s eta 0:00:01\n",
      "     --------------- ------------------------ 1.0/2.5 MB 10.5 MB/s eta 0:00:01\n",
      "     -------------------------- ------------- 1.6/2.5 MB 10.4 MB/s eta 0:00:01\n",
      "     --------------------------------- ------ 2.1/2.5 MB 11.1 MB/s eta 0:00:01\n",
      "     ---------------------------------------  2.5/2.5 MB 11.4 MB/s eta 0:00:01\n",
      "     ---------------------------------------- 2.5/2.5 MB 10.0 MB/s eta 0:00:00\n",
      "Requirement already satisfied: python-dateutil>=2.7 in c:\\users\\kazir\\anaconda3\\envs\\py3-tf2\\lib\\site-packages (from matplotlib) (2.8.2)\n",
      "Collecting fonttools>=4.22.0\n",
      "  Downloading fonttools-4.39.4-py3-none-any.whl (1.0 MB)\n",
      "     ---------------------------------------- 0.0/1.0 MB ? eta -:--:--\n",
      "     ------------------------- -------------- 0.6/1.0 MB 13.6 MB/s eta 0:00:01\n",
      "     ---------------------------------------  1.0/1.0 MB 10.7 MB/s eta 0:00:01\n",
      "     ---------------------------------------- 1.0/1.0 MB 10.8 MB/s eta 0:00:00\n",
      "Requirement already satisfied: six>=1.5 in c:\\users\\kazir\\anaconda3\\envs\\py3-tf2\\lib\\site-packages (from python-dateutil>=2.7->matplotlib) (1.16.0)\n",
      "Installing collected packages: pyparsing, pillow, kiwisolver, fonttools, cycler, contourpy, matplotlib\n",
      "Successfully installed contourpy-1.0.7 cycler-0.11.0 fonttools-4.39.4 kiwisolver-1.4.4 matplotlib-3.7.1 pillow-9.5.0 pyparsing-3.0.9\n",
      "Note: you may need to restart the kernel to use updated packages.\n"
     ]
    }
   ],
   "source": [
    "pip install matplotlib"
   ]
  },
  {
   "cell_type": "code",
   "execution_count": 2,
   "id": "3ef503a6",
   "metadata": {},
   "outputs": [
    {
     "name": "stdout",
     "output_type": "stream",
     "text": [
      "2.10.0\n"
     ]
    }
   ],
   "source": [
    "print(tf.__version__)"
   ]
  },
  {
   "cell_type": "code",
   "execution_count": 3,
   "id": "3e7fa85f",
   "metadata": {},
   "outputs": [],
   "source": [
    "import keras as ks"
   ]
  },
  {
   "cell_type": "code",
   "execution_count": 4,
   "id": "a81ed5a7",
   "metadata": {},
   "outputs": [
    {
     "name": "stdout",
     "output_type": "stream",
     "text": [
      "2.10.0\n"
     ]
    }
   ],
   "source": [
    "print(ks.__version__)"
   ]
  },
  {
   "cell_type": "code",
   "execution_count": 4,
   "id": "a37da44a",
   "metadata": {},
   "outputs": [
    {
     "name": "stdout",
     "output_type": "stream",
     "text": [
      "Name: tensorflowNote: you may need to restart the kernel to use updated packages.\n",
      "\n",
      "Version: 2.10.0\n",
      "Summary: TensorFlow is an open source machine learning framework for everyone.\n",
      "Home-page: https://www.tensorflow.org/\n",
      "Author: Google Inc.\n",
      "Author-email: packages@tensorflow.org\n",
      "License: Apache 2.0\n",
      "Location: c:\\users\\kazir\\anaconda3\\envs\\py3-tf2\\lib\\site-packages\n",
      "Requires: absl-py, astunparse, flatbuffers, gast, google-pasta, grpcio, h5py, keras, keras-preprocessing, libclang, numpy, opt-einsum, packaging, protobuf, setuptools, six, tensorboard, tensorflow-estimator, tensorflow-io-gcs-filesystem, termcolor, typing-extensions, wrapt\n",
      "Required-by: \n"
     ]
    }
   ],
   "source": [
    "pip show tensorflow"
   ]
  },
  {
   "cell_type": "code",
   "execution_count": 5,
   "id": "35d03117",
   "metadata": {},
   "outputs": [
    {
     "name": "stdout",
     "output_type": "stream",
     "text": [
      "Name: keras\n",
      "Version: 2.10.0\n",
      "Summary: Deep learning for humans.\n",
      "Home-page: https://keras.io/\n",
      "Author: Keras team\n",
      "Author-email: keras-users@googlegroups.com\n",
      "License: Apache 2.0\n",
      "Location: c:\\users\\kazir\\anaconda3\\envs\\py3-tf2\\lib\\site-packages\n",
      "Requires: \n",
      "Required-by: tensorflow\n",
      "Note: you may need to restart the kernel to use updated packages.\n"
     ]
    }
   ],
   "source": [
    "pip show keras"
   ]
  },
  {
   "cell_type": "code",
   "execution_count": null,
   "id": "04f3bf4e",
   "metadata": {},
   "outputs": [],
   "source": []
  }
 ],
 "metadata": {
  "kernelspec": {
   "display_name": "Python 3 (ipykernel)",
   "language": "python",
   "name": "python3"
  },
  "language_info": {
   "codemirror_mode": {
    "name": "ipython",
    "version": 3
   },
   "file_extension": ".py",
   "mimetype": "text/x-python",
   "name": "python",
   "nbconvert_exporter": "python",
   "pygments_lexer": "ipython3",
   "version": "3.10.10"
  }
 },
 "nbformat": 4,
 "nbformat_minor": 5
}
