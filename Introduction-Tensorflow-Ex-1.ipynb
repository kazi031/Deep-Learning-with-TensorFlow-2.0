{
 "cells": [
  {
   "cell_type": "code",
   "execution_count": 1,
   "id": "d69ef53a",
   "metadata": {},
   "outputs": [],
   "source": [
    "import numpy as np\n",
    "import matplotlib.pyplot as plt\n",
    "import tensorflow as tf"
   ]
  },
  {
   "cell_type": "code",
   "execution_count": 2,
   "id": "46f11ead",
   "metadata": {},
   "outputs": [],
   "source": [
    "observations = 100000 #contains the size of the dataset we want to generate\n",
    "\n",
    "xs = np.random.uniform(low=-10,high=10,size=(observations,1))\n",
    "zs = np.random.uniform(-10,10,size=(observations,1)) \n",
    "\n",
    "generated_inputs = np.column_stack((xs,zs))\n",
    "\n",
    "noise = np.random.uniform(-1,1,size=(observations,1)) \n",
    "\n",
    "generated_targets = 2*xs - 3*zs + 5 + noise\n",
    "\n",
    "np.savez('TF_intro1', inputs=generated_inputs, targets=generated_targets)"
   ]
  },
  {
   "cell_type": "code",
   "execution_count": 3,
   "id": "b413e21c",
   "metadata": {},
   "outputs": [],
   "source": [
    "training_data = np.load('TF_intro1.npz')"
   ]
  },
  {
   "cell_type": "code",
   "execution_count": 4,
   "id": "d3b32529",
   "metadata": {},
   "outputs": [],
   "source": [
    "input_size = 2 # x's and z's\n",
    "output_size = 1"
   ]
  },
  {
   "cell_type": "code",
   "execution_count": 5,
   "id": "1a6284a2",
   "metadata": {},
   "outputs": [],
   "source": [
    "model = tf.keras.Sequential([tf.keras.layers.Dense(output_size,\n",
    "                                                  kernel_initializer=tf.random_uniform_initializer(minval=-0.1, maxval=0.1),\n",
    "                                                 bias_initializer=tf.random_uniform_initializer(minval=-0.1, maxval=0.1)\n",
    "                                                   )\n",
    "                            ])"
   ]
  },
  {
   "cell_type": "code",
   "execution_count": 11,
   "id": "3dd54224",
   "metadata": {},
   "outputs": [
    {
     "name": "stdout",
     "output_type": "stream",
     "text": [
      "Epoch 1/100\n",
      "3125/3125 - 4s - loss: 0.6660 - 4s/epoch - 1ms/step\n",
      "Epoch 2/100\n",
      "3125/3125 - 3s - loss: 0.6694 - 3s/epoch - 1ms/step\n",
      "Epoch 3/100\n",
      "3125/3125 - 3s - loss: 0.6835 - 3s/epoch - 1ms/step\n",
      "Epoch 4/100\n",
      "3125/3125 - 3s - loss: 0.6719 - 3s/epoch - 1ms/step\n",
      "Epoch 5/100\n",
      "3125/3125 - 4s - loss: 0.6757 - 4s/epoch - 1ms/step\n",
      "Epoch 6/100\n",
      "3125/3125 - 4s - loss: 0.6826 - 4s/epoch - 1ms/step\n",
      "Epoch 7/100\n",
      "3125/3125 - 3s - loss: 0.6813 - 3s/epoch - 1ms/step\n",
      "Epoch 8/100\n",
      "3125/3125 - 4s - loss: 0.6728 - 4s/epoch - 1ms/step\n",
      "Epoch 9/100\n",
      "3125/3125 - 4s - loss: 0.6712 - 4s/epoch - 1ms/step\n",
      "Epoch 10/100\n",
      "3125/3125 - 4s - loss: 0.6722 - 4s/epoch - 1ms/step\n",
      "Epoch 11/100\n",
      "3125/3125 - 3s - loss: 0.6669 - 3s/epoch - 1ms/step\n",
      "Epoch 12/100\n",
      "3125/3125 - 4s - loss: 0.6731 - 4s/epoch - 1ms/step\n",
      "Epoch 13/100\n",
      "3125/3125 - 3s - loss: 0.6767 - 3s/epoch - 1ms/step\n",
      "Epoch 14/100\n",
      "3125/3125 - 4s - loss: 0.6687 - 4s/epoch - 1ms/step\n",
      "Epoch 15/100\n",
      "3125/3125 - 4s - loss: 0.6704 - 4s/epoch - 1ms/step\n",
      "Epoch 16/100\n",
      "3125/3125 - 5s - loss: 0.6696 - 5s/epoch - 2ms/step\n",
      "Epoch 17/100\n",
      "3125/3125 - 4s - loss: 0.6806 - 4s/epoch - 1ms/step\n",
      "Epoch 18/100\n",
      "3125/3125 - 4s - loss: 0.6783 - 4s/epoch - 1ms/step\n",
      "Epoch 19/100\n",
      "3125/3125 - 4s - loss: 0.6760 - 4s/epoch - 1ms/step\n",
      "Epoch 20/100\n",
      "3125/3125 - 4s - loss: 0.6658 - 4s/epoch - 1ms/step\n",
      "Epoch 21/100\n",
      "3125/3125 - 4s - loss: 0.6740 - 4s/epoch - 1ms/step\n",
      "Epoch 22/100\n",
      "3125/3125 - 4s - loss: 0.6817 - 4s/epoch - 1ms/step\n",
      "Epoch 23/100\n",
      "3125/3125 - 3s - loss: 0.6757 - 3s/epoch - 1ms/step\n",
      "Epoch 24/100\n",
      "3125/3125 - 4s - loss: 0.6743 - 4s/epoch - 1ms/step\n",
      "Epoch 25/100\n",
      "3125/3125 - 4s - loss: 0.6796 - 4s/epoch - 1ms/step\n",
      "Epoch 26/100\n",
      "3125/3125 - 4s - loss: 0.6718 - 4s/epoch - 1ms/step\n",
      "Epoch 27/100\n",
      "3125/3125 - 4s - loss: 0.6702 - 4s/epoch - 1ms/step\n",
      "Epoch 28/100\n",
      "3125/3125 - 4s - loss: 0.6766 - 4s/epoch - 1ms/step\n",
      "Epoch 29/100\n",
      "3125/3125 - 4s - loss: 0.6748 - 4s/epoch - 1ms/step\n",
      "Epoch 30/100\n",
      "3125/3125 - 4s - loss: 0.6818 - 4s/epoch - 1ms/step\n",
      "Epoch 31/100\n",
      "3125/3125 - 4s - loss: 0.6768 - 4s/epoch - 1ms/step\n",
      "Epoch 32/100\n",
      "3125/3125 - 4s - loss: 0.6711 - 4s/epoch - 1ms/step\n",
      "Epoch 33/100\n",
      "3125/3125 - 4s - loss: 0.6768 - 4s/epoch - 1ms/step\n",
      "Epoch 34/100\n",
      "3125/3125 - 4s - loss: 0.6709 - 4s/epoch - 1ms/step\n",
      "Epoch 35/100\n",
      "3125/3125 - 4s - loss: 0.6746 - 4s/epoch - 1ms/step\n",
      "Epoch 36/100\n",
      "3125/3125 - 4s - loss: 0.6784 - 4s/epoch - 1ms/step\n",
      "Epoch 37/100\n",
      "3125/3125 - 4s - loss: 0.6677 - 4s/epoch - 1ms/step\n",
      "Epoch 38/100\n",
      "3125/3125 - 4s - loss: 0.6782 - 4s/epoch - 1ms/step\n",
      "Epoch 39/100\n",
      "3125/3125 - 4s - loss: 0.6750 - 4s/epoch - 1ms/step\n",
      "Epoch 40/100\n",
      "3125/3125 - 4s - loss: 0.6739 - 4s/epoch - 1ms/step\n",
      "Epoch 41/100\n",
      "3125/3125 - 4s - loss: 0.6730 - 4s/epoch - 1ms/step\n",
      "Epoch 42/100\n",
      "3125/3125 - 4s - loss: 0.6690 - 4s/epoch - 1ms/step\n",
      "Epoch 43/100\n",
      "3125/3125 - 3s - loss: 0.6716 - 3s/epoch - 1ms/step\n",
      "Epoch 44/100\n",
      "3125/3125 - 3s - loss: 0.6783 - 3s/epoch - 1ms/step\n",
      "Epoch 45/100\n",
      "3125/3125 - 3s - loss: 0.6660 - 3s/epoch - 1ms/step\n",
      "Epoch 46/100\n",
      "3125/3125 - 4s - loss: 0.6695 - 4s/epoch - 1ms/step\n",
      "Epoch 47/100\n",
      "3125/3125 - 4s - loss: 0.6703 - 4s/epoch - 1ms/step\n",
      "Epoch 48/100\n",
      "3125/3125 - 4s - loss: 0.6719 - 4s/epoch - 1ms/step\n",
      "Epoch 49/100\n",
      "3125/3125 - 4s - loss: 0.6726 - 4s/epoch - 1ms/step\n",
      "Epoch 50/100\n",
      "3125/3125 - 4s - loss: 0.6751 - 4s/epoch - 1ms/step\n",
      "Epoch 51/100\n",
      "3125/3125 - 4s - loss: 0.6699 - 4s/epoch - 1ms/step\n",
      "Epoch 52/100\n",
      "3125/3125 - 3s - loss: 0.6775 - 3s/epoch - 1ms/step\n",
      "Epoch 53/100\n",
      "3125/3125 - 4s - loss: 0.6686 - 4s/epoch - 1ms/step\n",
      "Epoch 54/100\n",
      "3125/3125 - 3s - loss: 0.6773 - 3s/epoch - 1ms/step\n",
      "Epoch 55/100\n",
      "3125/3125 - 4s - loss: 0.6826 - 4s/epoch - 1ms/step\n",
      "Epoch 56/100\n",
      "3125/3125 - 3s - loss: 0.6709 - 3s/epoch - 1ms/step\n",
      "Epoch 57/100\n",
      "3125/3125 - 3s - loss: 0.6677 - 3s/epoch - 1ms/step\n",
      "Epoch 58/100\n",
      "3125/3125 - 3s - loss: 0.6726 - 3s/epoch - 1ms/step\n",
      "Epoch 59/100\n",
      "3125/3125 - 4s - loss: 0.6650 - 4s/epoch - 1ms/step\n",
      "Epoch 60/100\n",
      "3125/3125 - 4s - loss: 0.6706 - 4s/epoch - 1ms/step\n",
      "Epoch 61/100\n",
      "3125/3125 - 5s - loss: 0.6671 - 5s/epoch - 2ms/step\n",
      "Epoch 62/100\n",
      "3125/3125 - 3s - loss: 0.6751 - 3s/epoch - 1ms/step\n",
      "Epoch 63/100\n",
      "3125/3125 - 3s - loss: 0.6811 - 3s/epoch - 1ms/step\n",
      "Epoch 64/100\n",
      "3125/3125 - 4s - loss: 0.6790 - 4s/epoch - 1ms/step\n",
      "Epoch 65/100\n",
      "3125/3125 - 4s - loss: 0.6797 - 4s/epoch - 1ms/step\n",
      "Epoch 66/100\n",
      "3125/3125 - 4s - loss: 0.6766 - 4s/epoch - 1ms/step\n",
      "Epoch 67/100\n",
      "3125/3125 - 4s - loss: 0.6723 - 4s/epoch - 1ms/step\n",
      "Epoch 68/100\n",
      "3125/3125 - 3s - loss: 0.6713 - 3s/epoch - 1ms/step\n",
      "Epoch 69/100\n",
      "3125/3125 - 3s - loss: 0.6733 - 3s/epoch - 1ms/step\n",
      "Epoch 70/100\n",
      "3125/3125 - 4s - loss: 0.6767 - 4s/epoch - 1ms/step\n",
      "Epoch 71/100\n",
      "3125/3125 - 3s - loss: 0.6779 - 3s/epoch - 1ms/step\n",
      "Epoch 72/100\n",
      "3125/3125 - 4s - loss: 0.6722 - 4s/epoch - 1ms/step\n",
      "Epoch 73/100\n",
      "3125/3125 - 3s - loss: 0.6703 - 3s/epoch - 1ms/step\n",
      "Epoch 74/100\n",
      "3125/3125 - 4s - loss: 0.6777 - 4s/epoch - 1ms/step\n",
      "Epoch 75/100\n",
      "3125/3125 - 3s - loss: 0.6698 - 3s/epoch - 1ms/step\n",
      "Epoch 76/100\n",
      "3125/3125 - 4s - loss: 0.6679 - 4s/epoch - 1ms/step\n",
      "Epoch 77/100\n",
      "3125/3125 - 4s - loss: 0.6803 - 4s/epoch - 1ms/step\n",
      "Epoch 78/100\n",
      "3125/3125 - 4s - loss: 0.6793 - 4s/epoch - 1ms/step\n",
      "Epoch 79/100\n",
      "3125/3125 - 3s - loss: 0.6714 - 3s/epoch - 1ms/step\n",
      "Epoch 80/100\n",
      "3125/3125 - 3s - loss: 0.6648 - 3s/epoch - 1ms/step\n",
      "Epoch 81/100\n",
      "3125/3125 - 4s - loss: 0.6758 - 4s/epoch - 1ms/step\n",
      "Epoch 82/100\n",
      "3125/3125 - 4s - loss: 0.6805 - 4s/epoch - 1ms/step\n",
      "Epoch 83/100\n",
      "3125/3125 - 4s - loss: 0.6734 - 4s/epoch - 1ms/step\n",
      "Epoch 84/100\n",
      "3125/3125 - 3s - loss: 0.6727 - 3s/epoch - 1ms/step\n",
      "Epoch 85/100\n",
      "3125/3125 - 3s - loss: 0.6693 - 3s/epoch - 1ms/step\n",
      "Epoch 86/100\n",
      "3125/3125 - 3s - loss: 0.6726 - 3s/epoch - 1ms/step\n",
      "Epoch 87/100\n",
      "3125/3125 - 3s - loss: 0.6651 - 3s/epoch - 1ms/step\n",
      "Epoch 88/100\n",
      "3125/3125 - 3s - loss: 0.6708 - 3s/epoch - 1ms/step\n",
      "Epoch 89/100\n",
      "3125/3125 - 3s - loss: 0.6736 - 3s/epoch - 1ms/step\n",
      "Epoch 90/100\n",
      "3125/3125 - 3s - loss: 0.6793 - 3s/epoch - 1ms/step\n",
      "Epoch 91/100\n",
      "3125/3125 - 4s - loss: 0.6765 - 4s/epoch - 1ms/step\n",
      "Epoch 92/100\n",
      "3125/3125 - 4s - loss: 0.6732 - 4s/epoch - 1ms/step\n",
      "Epoch 93/100\n",
      "3125/3125 - 4s - loss: 0.6734 - 4s/epoch - 1ms/step\n",
      "Epoch 94/100\n",
      "3125/3125 - 4s - loss: 0.6722 - 4s/epoch - 1ms/step\n",
      "Epoch 95/100\n",
      "3125/3125 - 4s - loss: 0.6684 - 4s/epoch - 1ms/step\n",
      "Epoch 96/100\n",
      "3125/3125 - 4s - loss: 0.6709 - 4s/epoch - 1ms/step\n",
      "Epoch 97/100\n",
      "3125/3125 - 4s - loss: 0.6731 - 4s/epoch - 1ms/step\n",
      "Epoch 98/100\n",
      "3125/3125 - 4s - loss: 0.6710 - 4s/epoch - 1ms/step\n",
      "Epoch 99/100\n",
      "3125/3125 - 4s - loss: 0.6669 - 4s/epoch - 1ms/step\n",
      "Epoch 100/100\n",
      "3125/3125 - 3s - loss: 0.6762 - 3s/epoch - 1ms/step\n"
     ]
    },
    {
     "data": {
      "text/plain": [
       "<keras.callbacks.History at 0x2524a617a60>"
      ]
     },
     "execution_count": 11,
     "metadata": {},
     "output_type": "execute_result"
    }
   ],
   "source": [
    "custom_optimizer = tf.keras.optimizers.SGD(learning_rate=0.1) \n",
    "\n",
    "model.compile(optimizer=custom_optimizer, loss='huber_loss')\n",
    "model.fit(training_data['inputs'], training_data['targets'], epochs=100, verbose=2)"
   ]
  },
  {
   "cell_type": "markdown",
   "id": "bca8c5c3",
   "metadata": {},
   "source": [
    "### Change the loss function. An alternative loss for regressions is the Huber loss. The Huber loss is more appropriate than the L2-norm when we have outliers, as it is less sensitive to them (in our example we don't have outliers, but you will surely stumble upon a dataset with outliers in the future). The L2-norm loss puts all differences *to the square*, so outliers have a lot of influence on the outcome. The proper syntax of the Huber loss is 'huber_loss'"
   ]
  },
  {
   "cell_type": "code",
   "execution_count": 9,
   "id": "7d5fb6dc",
   "metadata": {},
   "outputs": [
    {
     "data": {
      "text/plain": [
       "[array([[ 2.003655],\n",
       "        [-2.997463]], dtype=float32),\n",
       " array([5.003409], dtype=float32)]"
      ]
     },
     "execution_count": 9,
     "metadata": {},
     "output_type": "execute_result"
    }
   ],
   "source": [
    "model.layers[0].get_weights()"
   ]
  },
  {
   "cell_type": "code",
   "execution_count": 10,
   "id": "c6781a49",
   "metadata": {},
   "outputs": [
    {
     "data": {
      "image/png": "[encoded data removed]",
      "text/plain": [
       "<Figure size 640x480 with 1 Axes>"
      ]
     },
     "metadata": {},
     "output_type": "display_data"
    }
   ],
   "source": [
    "plt.plot(np.squeeze(model.predict_on_batch(training_data['inputs'])),np.squeeze(training_data['targets']))\n",
    "plt.xlabel('outputs')\n",
    "plt.ylabel('targets')\n",
    "plt.show()"
   ]
  },
  {
   "cell_type": "markdown",
   "id": "a9fec48b",
   "metadata": {},
   "source": [
    " 0.001 => 0.1666 (Huber)\n",
    " 0.1 => 0.6762 (Huber)"
   ]
  },
  {
   "cell_type": "code",
   "execution_count": null,
   "id": "19c43e7f",
   "metadata": {},
   "outputs": [],
   "source": []
  }
 ],
 "metadata": {
  "kernelspec": {
   "display_name": "Python [conda env:py3-TF2]",
   "language": "python",
   "name": "conda-env-py3-TF2-py"
  },
  "language_info": {
   "codemirror_mode": {
    "name": "ipython",
    "version": 3
   },
   "file_extension": ".py",
   "mimetype": "text/x-python",
   "name": "python",
   "nbconvert_exporter": "python",
   "pygments_lexer": "ipython3",
   "version": "3.10.10"
  }
 },
 "nbformat": 4,
 "nbformat_minor": 5
}
