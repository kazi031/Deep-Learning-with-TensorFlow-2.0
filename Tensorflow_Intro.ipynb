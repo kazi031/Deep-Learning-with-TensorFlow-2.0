{
 "cells": [
  {
   "cell_type": "markdown",
   "id": "89bb0881",
   "metadata": {},
   "source": [
    "### Scalar(tensor rank:0), Vector(tensor rank:1), matrix(tensor rank:2), tensor(tensor rank > 2)"
   ]
  },
  {
   "cell_type": "markdown",
   "id": "e5ce878e",
   "metadata": {},
   "source": [
    "### Tensorflow not only uses the CPU of the computer but also uses the GPU of the computer. This is crutial for the speed of the algorithm."
   ]
  },
  {
   "cell_type": "code",
   "execution_count": 1,
   "id": "e1a315cf",
   "metadata": {},
   "outputs": [],
   "source": [
    "import numpy as np\n",
    "import matplotlib.pyplot as plt\n",
    "import tensorflow as tf"
   ]
  },
  {
   "cell_type": "code",
   "execution_count": 2,
   "id": "8aa89268",
   "metadata": {},
   "outputs": [],
   "source": [
    "observations = 1000 #contains the size of the dataset we want to generate\n",
    "\n",
    "xs = np.random.uniform(low=-10,high=10,size=(observations,1))\n",
    "zs = np.random.uniform(-10,10,size=(observations,1)) \n",
    "\n",
    "generated_inputs = np.column_stack((xs,zs))\n",
    "\n",
    "noise = np.random.uniform(-1,1,size=(observations,1)) \n",
    "\n",
    "generated_targets = 2*xs - 3*zs + 5 + noise\n",
    "\n",
    "np.savez('TF_intro', inputs=generated_inputs, targets=generated_targets)\n",
    "\n",
    "# For each project there will be a dataset, perhaps xlsx or csv files. However, tensorflow doesn't work well woth them. Its \n",
    "# tansor based thats why it likes tensors. So we want a format which can store information in tensors. One solution to this \n",
    "# problem is .npz files. That's numPy's file type. Stores n-dimensional arrays. Tensor can be represented as a multi dimensional\n",
    "# array. "
   ]
  },
  {
   "cell_type": "code",
   "execution_count": 3,
   "id": "2da5b8bc",
   "metadata": {},
   "outputs": [],
   "source": [
    "training_data = np.load('TF_intro.npz')"
   ]
  },
  {
   "cell_type": "code",
   "execution_count": 4,
   "id": "2d6aa673",
   "metadata": {},
   "outputs": [
    {
     "name": "stdout",
     "output_type": "stream",
     "text": [
      "Epoch 1/100\n",
      "32/32 - 1s - loss: 32.1144 - 686ms/epoch - 21ms/step\n",
      "Epoch 2/100\n",
      "32/32 - 0s - loss: 4.4162 - 45ms/epoch - 1ms/step\n",
      "Epoch 3/100\n",
      "32/32 - 0s - loss: 1.4619 - 47ms/epoch - 1ms/step\n",
      "Epoch 4/100\n",
      "32/32 - 0s - loss: 0.6486 - 46ms/epoch - 1ms/step\n",
      "Epoch 5/100\n",
      "32/32 - 0s - loss: 0.4317 - 53ms/epoch - 2ms/step\n",
      "Epoch 6/100\n",
      "32/32 - 0s - loss: 0.3668 - 42ms/epoch - 1ms/step\n",
      "Epoch 7/100\n",
      "32/32 - 0s - loss: 0.3538 - 47ms/epoch - 1ms/step\n",
      "Epoch 8/100\n",
      "32/32 - 0s - loss: 0.3540 - 45ms/epoch - 1ms/step\n",
      "Epoch 9/100\n",
      "32/32 - 0s - loss: 0.3515 - 46ms/epoch - 1ms/step\n",
      "Epoch 10/100\n",
      "32/32 - 0s - loss: 0.3494 - 45ms/epoch - 1ms/step\n",
      "Epoch 11/100\n",
      "32/32 - 0s - loss: 0.3574 - 43ms/epoch - 1ms/step\n",
      "Epoch 12/100\n",
      "32/32 - 0s - loss: 0.3419 - 45ms/epoch - 1ms/step\n",
      "Epoch 13/100\n",
      "32/32 - 0s - loss: 0.3427 - 44ms/epoch - 1ms/step\n",
      "Epoch 14/100\n",
      "32/32 - 0s - loss: 0.3476 - 47ms/epoch - 1ms/step\n",
      "Epoch 15/100\n",
      "32/32 - 0s - loss: 0.3399 - 44ms/epoch - 1ms/step\n",
      "Epoch 16/100\n",
      "32/32 - 0s - loss: 0.3463 - 41ms/epoch - 1ms/step\n",
      "Epoch 17/100\n",
      "32/32 - 0s - loss: 0.3443 - 43ms/epoch - 1ms/step\n",
      "Epoch 18/100\n",
      "32/32 - 0s - loss: 0.3507 - 46ms/epoch - 1ms/step\n",
      "Epoch 19/100\n",
      "32/32 - 0s - loss: 0.3443 - 51ms/epoch - 2ms/step\n",
      "Epoch 20/100\n",
      "32/32 - 0s - loss: 0.3420 - 42ms/epoch - 1ms/step\n",
      "Epoch 21/100\n",
      "32/32 - 0s - loss: 0.3495 - 51ms/epoch - 2ms/step\n",
      "Epoch 22/100\n",
      "32/32 - 0s - loss: 0.3400 - 56ms/epoch - 2ms/step\n",
      "Epoch 23/100\n",
      "32/32 - 0s - loss: 0.3503 - 64ms/epoch - 2ms/step\n",
      "Epoch 24/100\n",
      "32/32 - 0s - loss: 0.3548 - 61ms/epoch - 2ms/step\n",
      "Epoch 25/100\n",
      "32/32 - 0s - loss: 0.3503 - 63ms/epoch - 2ms/step\n",
      "Epoch 26/100\n",
      "32/32 - 0s - loss: 0.3474 - 60ms/epoch - 2ms/step\n",
      "Epoch 27/100\n",
      "32/32 - 0s - loss: 0.3474 - 50ms/epoch - 2ms/step\n",
      "Epoch 28/100\n",
      "32/32 - 0s - loss: 0.3498 - 47ms/epoch - 1ms/step\n",
      "Epoch 29/100\n",
      "32/32 - 0s - loss: 0.3478 - 50ms/epoch - 2ms/step\n",
      "Epoch 30/100\n",
      "32/32 - 0s - loss: 0.3467 - 48ms/epoch - 1ms/step\n",
      "Epoch 31/100\n",
      "32/32 - 0s - loss: 0.3460 - 50ms/epoch - 2ms/step\n",
      "Epoch 32/100\n",
      "32/32 - 0s - loss: 0.3482 - 51ms/epoch - 2ms/step\n",
      "Epoch 33/100\n",
      "32/32 - 0s - loss: 0.3446 - 46ms/epoch - 1ms/step\n",
      "Epoch 34/100\n",
      "32/32 - 0s - loss: 0.3423 - 46ms/epoch - 1ms/step\n",
      "Epoch 35/100\n",
      "32/32 - 0s - loss: 0.3483 - 48ms/epoch - 1ms/step\n",
      "Epoch 36/100\n",
      "32/32 - 0s - loss: 0.3481 - 52ms/epoch - 2ms/step\n",
      "Epoch 37/100\n",
      "32/32 - 0s - loss: 0.3451 - 54ms/epoch - 2ms/step\n",
      "Epoch 38/100\n",
      "32/32 - 0s - loss: 0.3384 - 44ms/epoch - 1ms/step\n",
      "Epoch 39/100\n",
      "32/32 - 0s - loss: 0.3483 - 47ms/epoch - 1ms/step\n",
      "Epoch 40/100\n",
      "32/32 - 0s - loss: 0.3487 - 49ms/epoch - 2ms/step\n",
      "Epoch 41/100\n",
      "32/32 - 0s - loss: 0.3418 - 47ms/epoch - 1ms/step\n",
      "Epoch 42/100\n",
      "32/32 - 0s - loss: 0.3477 - 53ms/epoch - 2ms/step\n",
      "Epoch 43/100\n",
      "32/32 - 0s - loss: 0.3434 - 43ms/epoch - 1ms/step\n",
      "Epoch 44/100\n",
      "32/32 - 0s - loss: 0.3416 - 47ms/epoch - 1ms/step\n",
      "Epoch 45/100\n",
      "32/32 - 0s - loss: 0.3383 - 48ms/epoch - 1ms/step\n",
      "Epoch 46/100\n",
      "32/32 - 0s - loss: 0.3463 - 49ms/epoch - 2ms/step\n",
      "Epoch 47/100\n",
      "32/32 - 0s - loss: 0.3414 - 51ms/epoch - 2ms/step\n",
      "Epoch 48/100\n",
      "32/32 - 0s - loss: 0.3528 - 46ms/epoch - 1ms/step\n",
      "Epoch 49/100\n",
      "32/32 - 0s - loss: 0.3425 - 49ms/epoch - 2ms/step\n",
      "Epoch 50/100\n",
      "32/32 - 0s - loss: 0.3404 - 45ms/epoch - 1ms/step\n",
      "Epoch 51/100\n",
      "32/32 - 0s - loss: 0.3472 - 45ms/epoch - 1ms/step\n",
      "Epoch 52/100\n",
      "32/32 - 0s - loss: 0.3462 - 41ms/epoch - 1ms/step\n",
      "Epoch 53/100\n",
      "32/32 - 0s - loss: 0.3436 - 45ms/epoch - 1ms/step\n",
      "Epoch 54/100\n",
      "32/32 - 0s - loss: 0.3502 - 54ms/epoch - 2ms/step\n",
      "Epoch 55/100\n",
      "32/32 - 0s - loss: 0.3424 - 56ms/epoch - 2ms/step\n",
      "Epoch 56/100\n",
      "32/32 - 0s - loss: 0.3462 - 60ms/epoch - 2ms/step\n",
      "Epoch 57/100\n",
      "32/32 - 0s - loss: 0.3432 - 50ms/epoch - 2ms/step\n",
      "Epoch 58/100\n",
      "32/32 - 0s - loss: 0.3421 - 38ms/epoch - 1ms/step\n",
      "Epoch 59/100\n",
      "32/32 - 0s - loss: 0.3434 - 43ms/epoch - 1ms/step\n",
      "Epoch 60/100\n",
      "32/32 - 0s - loss: 0.3437 - 42ms/epoch - 1ms/step\n",
      "Epoch 61/100\n",
      "32/32 - 0s - loss: 0.3488 - 37ms/epoch - 1ms/step\n",
      "Epoch 62/100\n",
      "32/32 - 0s - loss: 0.3506 - 52ms/epoch - 2ms/step\n",
      "Epoch 63/100\n",
      "32/32 - 0s - loss: 0.3432 - 41ms/epoch - 1ms/step\n",
      "Epoch 64/100\n",
      "32/32 - 0s - loss: 0.3508 - 36ms/epoch - 1ms/step\n",
      "Epoch 65/100\n",
      "32/32 - 0s - loss: 0.3470 - 38ms/epoch - 1ms/step\n",
      "Epoch 66/100\n",
      "32/32 - 0s - loss: 0.3460 - 38ms/epoch - 1ms/step\n",
      "Epoch 67/100\n",
      "32/32 - 0s - loss: 0.3514 - 49ms/epoch - 2ms/step\n",
      "Epoch 68/100\n",
      "32/32 - 0s - loss: 0.3458 - 38ms/epoch - 1ms/step\n",
      "Epoch 69/100\n",
      "32/32 - 0s - loss: 0.3512 - 38ms/epoch - 1ms/step\n",
      "Epoch 70/100\n",
      "32/32 - 0s - loss: 0.3410 - 39ms/epoch - 1ms/step\n",
      "Epoch 71/100\n",
      "32/32 - 0s - loss: 0.3544 - 48ms/epoch - 1ms/step\n",
      "Epoch 72/100\n",
      "32/32 - 0s - loss: 0.3453 - 40ms/epoch - 1ms/step\n",
      "Epoch 73/100\n",
      "32/32 - 0s - loss: 0.3448 - 38ms/epoch - 1ms/step\n",
      "Epoch 74/100\n",
      "32/32 - 0s - loss: 0.3416 - 41ms/epoch - 1ms/step\n",
      "Epoch 75/100\n",
      "32/32 - 0s - loss: 0.3463 - 53ms/epoch - 2ms/step\n",
      "Epoch 76/100\n",
      "32/32 - 0s - loss: 0.3419 - 45ms/epoch - 1ms/step\n",
      "Epoch 77/100\n",
      "32/32 - 0s - loss: 0.3424 - 42ms/epoch - 1ms/step\n",
      "Epoch 78/100\n",
      "32/32 - 0s - loss: 0.3524 - 49ms/epoch - 2ms/step\n",
      "Epoch 79/100\n",
      "32/32 - 0s - loss: 0.3479 - 44ms/epoch - 1ms/step\n",
      "Epoch 80/100\n",
      "32/32 - 0s - loss: 0.3470 - 47ms/epoch - 1ms/step\n",
      "Epoch 81/100\n",
      "32/32 - 0s - loss: 0.3377 - 42ms/epoch - 1ms/step\n",
      "Epoch 82/100\n",
      "32/32 - 0s - loss: 0.3459 - 51ms/epoch - 2ms/step\n",
      "Epoch 83/100\n",
      "32/32 - 0s - loss: 0.3485 - 46ms/epoch - 1ms/step\n",
      "Epoch 84/100\n",
      "32/32 - 0s - loss: 0.3416 - 44ms/epoch - 1ms/step\n",
      "Epoch 85/100\n",
      "32/32 - 0s - loss: 0.3424 - 49ms/epoch - 2ms/step\n",
      "Epoch 86/100\n",
      "32/32 - 0s - loss: 0.3428 - 51ms/epoch - 2ms/step\n",
      "Epoch 87/100\n",
      "32/32 - 0s - loss: 0.3422 - 48ms/epoch - 1ms/step\n",
      "Epoch 88/100\n",
      "32/32 - 0s - loss: 0.3454 - 53ms/epoch - 2ms/step\n",
      "Epoch 89/100\n",
      "32/32 - 0s - loss: 0.3491 - 49ms/epoch - 2ms/step\n",
      "Epoch 90/100\n",
      "32/32 - 0s - loss: 0.3469 - 39ms/epoch - 1ms/step\n",
      "Epoch 91/100\n",
      "32/32 - 0s - loss: 0.3430 - 42ms/epoch - 1ms/step\n",
      "Epoch 92/100\n",
      "32/32 - 0s - loss: 0.3412 - 52ms/epoch - 2ms/step\n",
      "Epoch 93/100\n",
      "32/32 - 0s - loss: 0.3469 - 57ms/epoch - 2ms/step\n",
      "Epoch 94/100\n",
      "32/32 - 0s - loss: 0.3473 - 53ms/epoch - 2ms/step\n",
      "Epoch 95/100\n",
      "32/32 - 0s - loss: 0.3470 - 51ms/epoch - 2ms/step\n",
      "Epoch 96/100\n",
      "32/32 - 0s - loss: 0.3438 - 56ms/epoch - 2ms/step\n",
      "Epoch 97/100\n",
      "32/32 - 0s - loss: 0.3419 - 49ms/epoch - 2ms/step\n",
      "Epoch 98/100\n",
      "32/32 - 0s - loss: 0.3463 - 49ms/epoch - 2ms/step\n",
      "Epoch 99/100\n",
      "32/32 - 0s - loss: 0.3486 - 42ms/epoch - 1ms/step\n",
      "Epoch 100/100\n",
      "32/32 - 0s - loss: 0.3449 - 54ms/epoch - 2ms/step\n"
     ]
    },
    {
     "data": {
      "text/plain": [
       "<keras.callbacks.History at 0x2366d947e80>"
      ]
     },
     "execution_count": 4,
     "metadata": {},
     "output_type": "execute_result"
    }
   ],
   "source": [
    "input_size = 2 # x's and z's\n",
    "output_size = 1\n",
    "\n",
    "# When we are employing tensorFlow we must actually BUILD the model\n",
    "# output = np.dot(inputs,weights) + bias (This is what tf.keras.layers.Dense() Does.)\n",
    "\n",
    "model = tf.keras.Sequential([\n",
    "                            tf.keras.layers.Dense(output_size)\n",
    "                            ])\n",
    "\n",
    "# model.compile(optimizer,loss) configures the model for training\n",
    "# Epoch is iteration over the full dataset\n",
    "# verbose = 0, stands for 'silent' \n",
    "# verbose = 1, stands for 'progress bar'\n",
    "# verbose = 2, stands for 'one line per epoch'\n",
    "\n",
    "model.compile(optimizer='sgd', loss='mean_squared_error')\n",
    "model.fit(training_data['inputs'], training_data['targets'], epochs=100, verbose=2)"
   ]
  },
  {
   "cell_type": "code",
   "execution_count": 5,
   "id": "96733f90",
   "metadata": {},
   "outputs": [
    {
     "data": {
      "text/plain": [
       "[array([[ 1.9530628],\n",
       "        [-2.9979768]], dtype=float32),\n",
       " array([5.006087], dtype=float32)]"
      ]
     },
     "execution_count": 5,
     "metadata": {},
     "output_type": "execute_result"
    }
   ],
   "source": [
    "model.layers[0].get_weights()"
   ]
  },
  {
   "cell_type": "code",
   "execution_count": 6,
   "id": "50b00023",
   "metadata": {},
   "outputs": [
    {
     "data": {
      "text/plain": [
       "array([5.006087], dtype=float32)"
      ]
     },
     "execution_count": 6,
     "metadata": {},
     "output_type": "execute_result"
    }
   ],
   "source": [
    "bias = model.layers[0].get_weights()[1]\n",
    "bias"
   ]
  },
  {
   "cell_type": "code",
   "execution_count": 7,
   "id": "7af1d507",
   "metadata": {},
   "outputs": [
    {
     "data": {
      "image/png": "[encoded data removed]",
      "text/plain": [
       "<Figure size 640x480 with 1 Axes>"
      ]
     },
     "metadata": {},
     "output_type": "display_data"
    }
   ],
   "source": [
    "plt.plot(np.squeeze(model.predict_on_batch(training_data['inputs'])),np.squeeze(training_data['targets']))\n",
    "plt.xlabel('outputs')\n",
    "plt.ylabel('targets')\n",
    "plt.show()"
   ]
  },
  {
   "cell_type": "code",
   "execution_count": null,
   "id": "7b4a1495",
   "metadata": {},
   "outputs": [],
   "source": []
  },
  {
   "cell_type": "code",
   "execution_count": null,
   "id": "e7417e10",
   "metadata": {},
   "outputs": [],
   "source": []
  },
  {
   "cell_type": "code",
   "execution_count": null,
   "id": "ba5da2c5",
   "metadata": {},
   "outputs": [],
   "source": []
  }
 ],
 "metadata": {
  "kernelspec": {
   "display_name": "Python [conda env:py3-TF2]",
   "language": "python",
   "name": "conda-env-py3-TF2-py"
  },
  "language_info": {
   "codemirror_mode": {
    "name": "ipython",
    "version": 3
   },
   "file_extension": ".py",
   "mimetype": "text/x-python",
   "name": "python",
   "nbconvert_exporter": "python",
   "pygments_lexer": "ipython3",
   "version": "3.10.10"
  }
 },
 "nbformat": 4,
 "nbformat_minor": 5
}
